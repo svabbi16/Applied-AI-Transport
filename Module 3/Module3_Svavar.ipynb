{
 "cells": [
  {
   "cell_type": "markdown",
   "id": "bc8d6341",
   "metadata": {},
   "source": [
    "# Module 2: Regression Models to Predict Bus Arrival Delays"
   ]
  },
  {
   "cell_type": "markdown",
   "id": "4196c144",
   "metadata": {},
   "source": [
    "Student: Svavar Hrafn Ágústsson\n",
    "\n",
    "Date: 7. Sept 2023"
   ]
  },
  {
   "cell_type": "markdown",
   "id": "5d5a1bac",
   "metadata": {},
   "source": [
    "## Importing and Exploring the Data"
   ]
  },
  {
   "cell_type": "code",
   "execution_count": 16,
   "id": "b23b5842",
   "metadata": {},
   "outputs": [
    {
     "data": {
      "text/html": [
       "<div>\n",
       "<style scoped>\n",
       "    .dataframe tbody tr th:only-of-type {\n",
       "        vertical-align: middle;\n",
       "    }\n",
       "\n",
       "    .dataframe tbody tr th {\n",
       "        vertical-align: top;\n",
       "    }\n",
       "\n",
       "    .dataframe thead th {\n",
       "        text-align: right;\n",
       "    }\n",
       "</style>\n",
       "<table border=\"1\" class=\"dataframe\">\n",
       "  <thead>\n",
       "    <tr style=\"text-align: right;\">\n",
       "      <th></th>\n",
       "      <th>ID</th>\n",
       "      <th>time_car</th>\n",
       "      <th>cost_car</th>\n",
       "      <th>time_bus</th>\n",
       "      <th>cost_bus</th>\n",
       "      <th>access_bus</th>\n",
       "      <th>time_air</th>\n",
       "      <th>cost_air</th>\n",
       "      <th>access_air</th>\n",
       "      <th>service_air</th>\n",
       "      <th>time_rail</th>\n",
       "      <th>cost_rail</th>\n",
       "      <th>access_rail</th>\n",
       "      <th>service_rail</th>\n",
       "      <th>choice</th>\n",
       "    </tr>\n",
       "  </thead>\n",
       "  <tbody>\n",
       "    <tr>\n",
       "      <th>0</th>\n",
       "      <td>1</td>\n",
       "      <td>275</td>\n",
       "      <td>50</td>\n",
       "      <td>330</td>\n",
       "      <td>35</td>\n",
       "      <td>20</td>\n",
       "      <td>80</td>\n",
       "      <td>65</td>\n",
       "      <td>55</td>\n",
       "      <td>food</td>\n",
       "      <td>120</td>\n",
       "      <td>45</td>\n",
       "      <td>5</td>\n",
       "      <td>no-frills</td>\n",
       "      <td>air</td>\n",
       "    </tr>\n",
       "    <tr>\n",
       "      <th>1</th>\n",
       "      <td>2</td>\n",
       "      <td>275</td>\n",
       "      <td>45</td>\n",
       "      <td>330</td>\n",
       "      <td>15</td>\n",
       "      <td>5</td>\n",
       "      <td>70</td>\n",
       "      <td>110</td>\n",
       "      <td>40</td>\n",
       "      <td>wifi</td>\n",
       "      <td>170</td>\n",
       "      <td>55</td>\n",
       "      <td>25</td>\n",
       "      <td>food</td>\n",
       "      <td>rail</td>\n",
       "    </tr>\n",
       "    <tr>\n",
       "      <th>2</th>\n",
       "      <td>3</td>\n",
       "      <td>275</td>\n",
       "      <td>45</td>\n",
       "      <td>390</td>\n",
       "      <td>15</td>\n",
       "      <td>25</td>\n",
       "      <td>70</td>\n",
       "      <td>80</td>\n",
       "      <td>55</td>\n",
       "      <td>no-frills</td>\n",
       "      <td>155</td>\n",
       "      <td>35</td>\n",
       "      <td>5</td>\n",
       "      <td>no-frills</td>\n",
       "      <td>rail</td>\n",
       "    </tr>\n",
       "    <tr>\n",
       "      <th>3</th>\n",
       "      <td>4</td>\n",
       "      <td>300</td>\n",
       "      <td>45</td>\n",
       "      <td>300</td>\n",
       "      <td>15</td>\n",
       "      <td>10</td>\n",
       "      <td>60</td>\n",
       "      <td>110</td>\n",
       "      <td>40</td>\n",
       "      <td>wifi</td>\n",
       "      <td>155</td>\n",
       "      <td>65</td>\n",
       "      <td>20</td>\n",
       "      <td>no-frills</td>\n",
       "      <td>rail</td>\n",
       "    </tr>\n",
       "    <tr>\n",
       "      <th>4</th>\n",
       "      <td>5</td>\n",
       "      <td>390</td>\n",
       "      <td>35</td>\n",
       "      <td>390</td>\n",
       "      <td>35</td>\n",
       "      <td>10</td>\n",
       "      <td>60</td>\n",
       "      <td>95</td>\n",
       "      <td>45</td>\n",
       "      <td>wifi</td>\n",
       "      <td>155</td>\n",
       "      <td>65</td>\n",
       "      <td>15</td>\n",
       "      <td>food</td>\n",
       "      <td>rail</td>\n",
       "    </tr>\n",
       "    <tr>\n",
       "      <th>5</th>\n",
       "      <td>6</td>\n",
       "      <td>275</td>\n",
       "      <td>40</td>\n",
       "      <td>360</td>\n",
       "      <td>30</td>\n",
       "      <td>20</td>\n",
       "      <td>50</td>\n",
       "      <td>80</td>\n",
       "      <td>50</td>\n",
       "      <td>no-frills</td>\n",
       "      <td>155</td>\n",
       "      <td>55</td>\n",
       "      <td>5</td>\n",
       "      <td>food</td>\n",
       "      <td>rail</td>\n",
       "    </tr>\n",
       "    <tr>\n",
       "      <th>6</th>\n",
       "      <td>7</td>\n",
       "      <td>250</td>\n",
       "      <td>50</td>\n",
       "      <td>360</td>\n",
       "      <td>25</td>\n",
       "      <td>15</td>\n",
       "      <td>60</td>\n",
       "      <td>110</td>\n",
       "      <td>45</td>\n",
       "      <td>food</td>\n",
       "      <td>120</td>\n",
       "      <td>65</td>\n",
       "      <td>20</td>\n",
       "      <td>wifi</td>\n",
       "      <td>rail</td>\n",
       "    </tr>\n",
       "    <tr>\n",
       "      <th>7</th>\n",
       "      <td>8</td>\n",
       "      <td>275</td>\n",
       "      <td>30</td>\n",
       "      <td>390</td>\n",
       "      <td>25</td>\n",
       "      <td>15</td>\n",
       "      <td>90</td>\n",
       "      <td>65</td>\n",
       "      <td>40</td>\n",
       "      <td>no-frills</td>\n",
       "      <td>155</td>\n",
       "      <td>65</td>\n",
       "      <td>25</td>\n",
       "      <td>wifi</td>\n",
       "      <td>car</td>\n",
       "    </tr>\n",
       "    <tr>\n",
       "      <th>8</th>\n",
       "      <td>9</td>\n",
       "      <td>390</td>\n",
       "      <td>30</td>\n",
       "      <td>390</td>\n",
       "      <td>25</td>\n",
       "      <td>25</td>\n",
       "      <td>90</td>\n",
       "      <td>65</td>\n",
       "      <td>35</td>\n",
       "      <td>food</td>\n",
       "      <td>120</td>\n",
       "      <td>65</td>\n",
       "      <td>15</td>\n",
       "      <td>no-frills</td>\n",
       "      <td>air</td>\n",
       "    </tr>\n",
       "    <tr>\n",
       "      <th>9</th>\n",
       "      <td>10</td>\n",
       "      <td>275</td>\n",
       "      <td>50</td>\n",
       "      <td>330</td>\n",
       "      <td>25</td>\n",
       "      <td>25</td>\n",
       "      <td>70</td>\n",
       "      <td>80</td>\n",
       "      <td>50</td>\n",
       "      <td>no-frills</td>\n",
       "      <td>120</td>\n",
       "      <td>55</td>\n",
       "      <td>5</td>\n",
       "      <td>food</td>\n",
       "      <td>air</td>\n",
       "    </tr>\n",
       "  </tbody>\n",
       "</table>\n",
       "</div>"
      ],
      "text/plain": [
       "   ID  time_car  cost_car  time_bus  cost_bus  access_bus  time_air  cost_air  \\\n",
       "0   1       275        50       330        35          20        80        65   \n",
       "1   2       275        45       330        15           5        70       110   \n",
       "2   3       275        45       390        15          25        70        80   \n",
       "3   4       300        45       300        15          10        60       110   \n",
       "4   5       390        35       390        35          10        60        95   \n",
       "5   6       275        40       360        30          20        50        80   \n",
       "6   7       250        50       360        25          15        60       110   \n",
       "7   8       275        30       390        25          15        90        65   \n",
       "8   9       390        30       390        25          25        90        65   \n",
       "9  10       275        50       330        25          25        70        80   \n",
       "\n",
       "   access_air service_air  time_rail  cost_rail  access_rail service_rail  \\\n",
       "0          55        food        120         45            5    no-frills   \n",
       "1          40        wifi        170         55           25         food   \n",
       "2          55   no-frills        155         35            5    no-frills   \n",
       "3          40        wifi        155         65           20    no-frills   \n",
       "4          45        wifi        155         65           15         food   \n",
       "5          50   no-frills        155         55            5         food   \n",
       "6          45        food        120         65           20         wifi   \n",
       "7          40   no-frills        155         65           25         wifi   \n",
       "8          35        food        120         65           15    no-frills   \n",
       "9          50   no-frills        120         55            5         food   \n",
       "\n",
       "  choice  \n",
       "0    air  \n",
       "1   rail  \n",
       "2   rail  \n",
       "3   rail  \n",
       "4   rail  \n",
       "5   rail  \n",
       "6   rail  \n",
       "7    car  \n",
       "8    air  \n",
       "9    air  "
      ]
     },
     "execution_count": 16,
     "metadata": {},
     "output_type": "execute_result"
    }
   ],
   "source": [
    "import pandas as pd\n",
    "from sklearn.model_selection import train_test_split\n",
    "from sklearn.linear_model import LogisticRegression\n",
    "from sklearn.metrics import ConfusionMatrixDisplay as cmd\n",
    "from sklearn.metrics import accuracy_score\n",
    "import os\n",
    "\n",
    "# The path of the dataset\n",
    "url = 'modeChoiceData.csv'\n",
    "# Load the data use the pandas\n",
    "data = pd.read_csv(url)\n",
    "data.head(10)"
   ]
  },
  {
   "cell_type": "code",
   "execution_count": 4,
   "id": "61c253da",
   "metadata": {},
   "outputs": [
    {
     "data": {
      "text/html": [
       "<div>\n",
       "<style scoped>\n",
       "    .dataframe tbody tr th:only-of-type {\n",
       "        vertical-align: middle;\n",
       "    }\n",
       "\n",
       "    .dataframe tbody tr th {\n",
       "        vertical-align: top;\n",
       "    }\n",
       "\n",
       "    .dataframe thead th {\n",
       "        text-align: right;\n",
       "    }\n",
       "</style>\n",
       "<table border=\"1\" class=\"dataframe\">\n",
       "  <thead>\n",
       "    <tr style=\"text-align: right;\">\n",
       "      <th></th>\n",
       "      <th>ID</th>\n",
       "      <th>time_car</th>\n",
       "      <th>cost_car</th>\n",
       "      <th>time_bus</th>\n",
       "      <th>cost_bus</th>\n",
       "      <th>access_bus</th>\n",
       "      <th>time_air</th>\n",
       "      <th>cost_air</th>\n",
       "      <th>access_air</th>\n",
       "      <th>time_rail</th>\n",
       "      <th>cost_rail</th>\n",
       "      <th>access_rail</th>\n",
       "    </tr>\n",
       "  </thead>\n",
       "  <tbody>\n",
       "    <tr>\n",
       "      <th>count</th>\n",
       "      <td>3080.00000</td>\n",
       "      <td>3080.000000</td>\n",
       "      <td>3080.000000</td>\n",
       "      <td>3080.000000</td>\n",
       "      <td>3080.000000</td>\n",
       "      <td>3080.000000</td>\n",
       "      <td>3080.000000</td>\n",
       "      <td>3080.000000</td>\n",
       "      <td>3080.000000</td>\n",
       "      <td>3080.000000</td>\n",
       "      <td>3080.000000</td>\n",
       "      <td>3080.000000</td>\n",
       "    </tr>\n",
       "    <tr>\n",
       "      <th>mean</th>\n",
       "      <td>1540.50000</td>\n",
       "      <td>312.725649</td>\n",
       "      <td>40.024351</td>\n",
       "      <td>370.724026</td>\n",
       "      <td>24.965909</td>\n",
       "      <td>15.094156</td>\n",
       "      <td>69.866883</td>\n",
       "      <td>80.029221</td>\n",
       "      <td>45.060065</td>\n",
       "      <td>142.878247</td>\n",
       "      <td>54.944805</td>\n",
       "      <td>14.840909</td>\n",
       "    </tr>\n",
       "    <tr>\n",
       "      <th>std</th>\n",
       "      <td>889.26374</td>\n",
       "      <td>50.390302</td>\n",
       "      <td>7.083073</td>\n",
       "      <td>37.369174</td>\n",
       "      <td>7.100207</td>\n",
       "      <td>7.099092</td>\n",
       "      <td>14.241063</td>\n",
       "      <td>21.254481</td>\n",
       "      <td>7.073683</td>\n",
       "      <td>17.727864</td>\n",
       "      <td>14.069500</td>\n",
       "      <td>7.089921</td>\n",
       "    </tr>\n",
       "    <tr>\n",
       "      <th>min</th>\n",
       "      <td>1.00000</td>\n",
       "      <td>250.000000</td>\n",
       "      <td>30.000000</td>\n",
       "      <td>300.000000</td>\n",
       "      <td>15.000000</td>\n",
       "      <td>5.000000</td>\n",
       "      <td>50.000000</td>\n",
       "      <td>50.000000</td>\n",
       "      <td>35.000000</td>\n",
       "      <td>120.000000</td>\n",
       "      <td>35.000000</td>\n",
       "      <td>5.000000</td>\n",
       "    </tr>\n",
       "    <tr>\n",
       "      <th>25%</th>\n",
       "      <td>770.75000</td>\n",
       "      <td>275.000000</td>\n",
       "      <td>35.000000</td>\n",
       "      <td>345.000000</td>\n",
       "      <td>20.000000</td>\n",
       "      <td>10.000000</td>\n",
       "      <td>60.000000</td>\n",
       "      <td>65.000000</td>\n",
       "      <td>40.000000</td>\n",
       "      <td>130.000000</td>\n",
       "      <td>45.000000</td>\n",
       "      <td>10.000000</td>\n",
       "    </tr>\n",
       "    <tr>\n",
       "      <th>50%</th>\n",
       "      <td>1540.50000</td>\n",
       "      <td>300.000000</td>\n",
       "      <td>40.000000</td>\n",
       "      <td>390.000000</td>\n",
       "      <td>25.000000</td>\n",
       "      <td>15.000000</td>\n",
       "      <td>70.000000</td>\n",
       "      <td>80.000000</td>\n",
       "      <td>45.000000</td>\n",
       "      <td>140.000000</td>\n",
       "      <td>55.000000</td>\n",
       "      <td>15.000000</td>\n",
       "    </tr>\n",
       "    <tr>\n",
       "      <th>75%</th>\n",
       "      <td>2310.25000</td>\n",
       "      <td>345.000000</td>\n",
       "      <td>45.000000</td>\n",
       "      <td>390.000000</td>\n",
       "      <td>30.000000</td>\n",
       "      <td>20.000000</td>\n",
       "      <td>80.000000</td>\n",
       "      <td>95.000000</td>\n",
       "      <td>50.000000</td>\n",
       "      <td>155.000000</td>\n",
       "      <td>65.000000</td>\n",
       "      <td>20.000000</td>\n",
       "    </tr>\n",
       "    <tr>\n",
       "      <th>max</th>\n",
       "      <td>3080.00000</td>\n",
       "      <td>390.000000</td>\n",
       "      <td>50.000000</td>\n",
       "      <td>420.000000</td>\n",
       "      <td>35.000000</td>\n",
       "      <td>25.000000</td>\n",
       "      <td>90.000000</td>\n",
       "      <td>110.000000</td>\n",
       "      <td>55.000000</td>\n",
       "      <td>170.000000</td>\n",
       "      <td>75.000000</td>\n",
       "      <td>25.000000</td>\n",
       "    </tr>\n",
       "  </tbody>\n",
       "</table>\n",
       "</div>"
      ],
      "text/plain": [
       "               ID     time_car     cost_car     time_bus     cost_bus  \\\n",
       "count  3080.00000  3080.000000  3080.000000  3080.000000  3080.000000   \n",
       "mean   1540.50000   312.725649    40.024351   370.724026    24.965909   \n",
       "std     889.26374    50.390302     7.083073    37.369174     7.100207   \n",
       "min       1.00000   250.000000    30.000000   300.000000    15.000000   \n",
       "25%     770.75000   275.000000    35.000000   345.000000    20.000000   \n",
       "50%    1540.50000   300.000000    40.000000   390.000000    25.000000   \n",
       "75%    2310.25000   345.000000    45.000000   390.000000    30.000000   \n",
       "max    3080.00000   390.000000    50.000000   420.000000    35.000000   \n",
       "\n",
       "        access_bus     time_air     cost_air   access_air    time_rail  \\\n",
       "count  3080.000000  3080.000000  3080.000000  3080.000000  3080.000000   \n",
       "mean     15.094156    69.866883    80.029221    45.060065   142.878247   \n",
       "std       7.099092    14.241063    21.254481     7.073683    17.727864   \n",
       "min       5.000000    50.000000    50.000000    35.000000   120.000000   \n",
       "25%      10.000000    60.000000    65.000000    40.000000   130.000000   \n",
       "50%      15.000000    70.000000    80.000000    45.000000   140.000000   \n",
       "75%      20.000000    80.000000    95.000000    50.000000   155.000000   \n",
       "max      25.000000    90.000000   110.000000    55.000000   170.000000   \n",
       "\n",
       "         cost_rail  access_rail  \n",
       "count  3080.000000  3080.000000  \n",
       "mean     54.944805    14.840909  \n",
       "std      14.069500     7.089921  \n",
       "min      35.000000     5.000000  \n",
       "25%      45.000000    10.000000  \n",
       "50%      55.000000    15.000000  \n",
       "75%      65.000000    20.000000  \n",
       "max      75.000000    25.000000  "
      ]
     },
     "execution_count": 4,
     "metadata": {},
     "output_type": "execute_result"
    }
   ],
   "source": [
    "data.describe()"
   ]
  },
  {
   "cell_type": "code",
   "execution_count": 5,
   "id": "4f0c3b42",
   "metadata": {},
   "outputs": [
    {
     "data": {
      "text/plain": [
       "choice\n",
       "air      705\n",
       "bus      109\n",
       "car      978\n",
       "rail    1288\n",
       "dtype: int64"
      ]
     },
     "execution_count": 5,
     "metadata": {},
     "output_type": "execute_result"
    }
   ],
   "source": [
    "data.groupby('choice').size()"
   ]
  },
  {
   "cell_type": "markdown",
   "id": "fe822b9d",
   "metadata": {},
   "source": [
    "## Preprocess to encoding categorical variables"
   ]
  },
  {
   "cell_type": "markdown",
   "id": "50972825",
   "metadata": {},
   "source": [
    "1. Label Encoding (unique integer value)"
   ]
  },
  {
   "cell_type": "code",
   "execution_count": 7,
   "id": "c576c483",
   "metadata": {},
   "outputs": [
    {
     "data": {
      "text/html": [
       "<div>\n",
       "<style scoped>\n",
       "    .dataframe tbody tr th:only-of-type {\n",
       "        vertical-align: middle;\n",
       "    }\n",
       "\n",
       "    .dataframe tbody tr th {\n",
       "        vertical-align: top;\n",
       "    }\n",
       "\n",
       "    .dataframe thead th {\n",
       "        text-align: right;\n",
       "    }\n",
       "</style>\n",
       "<table border=\"1\" class=\"dataframe\">\n",
       "  <thead>\n",
       "    <tr style=\"text-align: right;\">\n",
       "      <th></th>\n",
       "      <th>Distance</th>\n",
       "      <th>Education level</th>\n",
       "    </tr>\n",
       "  </thead>\n",
       "  <tbody>\n",
       "    <tr>\n",
       "      <th>0</th>\n",
       "      <td>10</td>\n",
       "      <td>1</td>\n",
       "    </tr>\n",
       "    <tr>\n",
       "      <th>1</th>\n",
       "      <td>20</td>\n",
       "      <td>0</td>\n",
       "    </tr>\n",
       "    <tr>\n",
       "      <th>2</th>\n",
       "      <td>12</td>\n",
       "      <td>1</td>\n",
       "    </tr>\n",
       "    <tr>\n",
       "      <th>3</th>\n",
       "      <td>16</td>\n",
       "      <td>0</td>\n",
       "    </tr>\n",
       "    <tr>\n",
       "      <th>4</th>\n",
       "      <td>22</td>\n",
       "      <td>2</td>\n",
       "    </tr>\n",
       "  </tbody>\n",
       "</table>\n",
       "</div>"
      ],
      "text/plain": [
       "   Distance  Education level\n",
       "0        10                1\n",
       "1        20                0\n",
       "2        12                1\n",
       "3        16                0\n",
       "4        22                2"
      ]
     },
     "execution_count": 7,
     "metadata": {},
     "output_type": "execute_result"
    }
   ],
   "source": [
    "## Label Encoding\n",
    "# Import the pandas library as 'pd' for data manipulation and analysis\n",
    "import pandas as pd\n",
    "\n",
    "# Import the LabelEncoder class from scikit-learn for encoding categorical data\n",
    "from sklearn.preprocessing import LabelEncoder\n",
    "\n",
    "# Create a list of lists containing data with two columns: 'Distance' and 'Education level'\n",
    "data = [[10, 'high school'], [20, 'graduate degree'], [12, 'high school'], [16, 'graduate degree'], [22, 'undergraduate degree']]\n",
    "\n",
    "# Create a DataFrame 'df' from the 'data' list with column names 'Distance' and 'Education level'\n",
    "df = pd.DataFrame(data, columns=['Distance', 'Education level'])\n",
    "\n",
    "# Initialize a LabelEncoder object as 'encoder' to encode the categorical variable\n",
    "encoder = LabelEncoder()\n",
    "\n",
    "# Use the LabelEncoder to transform the 'Education level' column from categorical to numerical values\n",
    "df['Education level'] = encoder.fit_transform(df['Education level'])\n",
    "\n",
    "# Display the DataFrame 'df' to show the results\n",
    "df\n"
   ]
  },
  {
   "cell_type": "markdown",
   "id": "416d7d34",
   "metadata": {},
   "source": [
    "2. One-Hot Encoding (represented with 0/1)"
   ]
  },
  {
   "cell_type": "code",
   "execution_count": 8,
   "id": "aaee95b8",
   "metadata": {},
   "outputs": [
    {
     "data": {
      "text/html": [
       "<div>\n",
       "<style scoped>\n",
       "    .dataframe tbody tr th:only-of-type {\n",
       "        vertical-align: middle;\n",
       "    }\n",
       "\n",
       "    .dataframe tbody tr th {\n",
       "        vertical-align: top;\n",
       "    }\n",
       "\n",
       "    .dataframe thead th {\n",
       "        text-align: right;\n",
       "    }\n",
       "</style>\n",
       "<table border=\"1\" class=\"dataframe\">\n",
       "  <thead>\n",
       "    <tr style=\"text-align: right;\">\n",
       "      <th></th>\n",
       "      <th>Distance</th>\n",
       "      <th>Education level_graduate degree</th>\n",
       "      <th>Education level_high school</th>\n",
       "      <th>Education level_undergraduate degree</th>\n",
       "    </tr>\n",
       "  </thead>\n",
       "  <tbody>\n",
       "    <tr>\n",
       "      <th>0</th>\n",
       "      <td>10</td>\n",
       "      <td>0</td>\n",
       "      <td>1</td>\n",
       "      <td>0</td>\n",
       "    </tr>\n",
       "    <tr>\n",
       "      <th>1</th>\n",
       "      <td>20</td>\n",
       "      <td>1</td>\n",
       "      <td>0</td>\n",
       "      <td>0</td>\n",
       "    </tr>\n",
       "    <tr>\n",
       "      <th>2</th>\n",
       "      <td>12</td>\n",
       "      <td>0</td>\n",
       "      <td>1</td>\n",
       "      <td>0</td>\n",
       "    </tr>\n",
       "    <tr>\n",
       "      <th>3</th>\n",
       "      <td>16</td>\n",
       "      <td>1</td>\n",
       "      <td>0</td>\n",
       "      <td>0</td>\n",
       "    </tr>\n",
       "    <tr>\n",
       "      <th>4</th>\n",
       "      <td>22</td>\n",
       "      <td>0</td>\n",
       "      <td>0</td>\n",
       "      <td>1</td>\n",
       "    </tr>\n",
       "  </tbody>\n",
       "</table>\n",
       "</div>"
      ],
      "text/plain": [
       "   Distance  Education level_graduate degree  Education level_high school  \\\n",
       "0        10                                0                            1   \n",
       "1        20                                1                            0   \n",
       "2        12                                0                            1   \n",
       "3        16                                1                            0   \n",
       "4        22                                0                            0   \n",
       "\n",
       "   Education level_undergraduate degree  \n",
       "0                                     0  \n",
       "1                                     0  \n",
       "2                                     0  \n",
       "3                                     0  \n",
       "4                                     1  "
      ]
     },
     "execution_count": 8,
     "metadata": {},
     "output_type": "execute_result"
    }
   ],
   "source": [
    "## One-Hot Encoding\n",
    "# create a sample dataframe with a categorical variable\n",
    "data = [[10, 'high school'], [20, 'graduate degree'], [12, 'high school'], [16, 'graduate degree'], [22, 'undergraduate degree']]\n",
    "df = pd.DataFrame(data, columns=['Distance', 'Education level'])\n",
    "\n",
    "# perform one-hot encoding on the 'Education level' column\n",
    "df = pd.get_dummies(df, columns=['Education level'])\n",
    "df"
   ]
  },
  {
   "cell_type": "markdown",
   "id": "990551ee",
   "metadata": {},
   "source": [
    "3. Dummy Encoding: Same as one-hot but with one less collumn"
   ]
  },
  {
   "cell_type": "code",
   "execution_count": 10,
   "id": "16357cdc",
   "metadata": {},
   "outputs": [
    {
     "data": {
      "text/html": [
       "<div>\n",
       "<style scoped>\n",
       "    .dataframe tbody tr th:only-of-type {\n",
       "        vertical-align: middle;\n",
       "    }\n",
       "\n",
       "    .dataframe tbody tr th {\n",
       "        vertical-align: top;\n",
       "    }\n",
       "\n",
       "    .dataframe thead th {\n",
       "        text-align: right;\n",
       "    }\n",
       "</style>\n",
       "<table border=\"1\" class=\"dataframe\">\n",
       "  <thead>\n",
       "    <tr style=\"text-align: right;\">\n",
       "      <th></th>\n",
       "      <th>Distance</th>\n",
       "      <th>Education level_high school</th>\n",
       "      <th>Education level_undergraduate degree</th>\n",
       "    </tr>\n",
       "  </thead>\n",
       "  <tbody>\n",
       "    <tr>\n",
       "      <th>0</th>\n",
       "      <td>10</td>\n",
       "      <td>1</td>\n",
       "      <td>0</td>\n",
       "    </tr>\n",
       "    <tr>\n",
       "      <th>1</th>\n",
       "      <td>20</td>\n",
       "      <td>0</td>\n",
       "      <td>0</td>\n",
       "    </tr>\n",
       "    <tr>\n",
       "      <th>2</th>\n",
       "      <td>12</td>\n",
       "      <td>1</td>\n",
       "      <td>0</td>\n",
       "    </tr>\n",
       "    <tr>\n",
       "      <th>3</th>\n",
       "      <td>16</td>\n",
       "      <td>0</td>\n",
       "      <td>0</td>\n",
       "    </tr>\n",
       "    <tr>\n",
       "      <th>4</th>\n",
       "      <td>22</td>\n",
       "      <td>0</td>\n",
       "      <td>1</td>\n",
       "    </tr>\n",
       "  </tbody>\n",
       "</table>\n",
       "</div>"
      ],
      "text/plain": [
       "   Distance  Education level_high school  Education level_undergraduate degree\n",
       "0        10                            1                                     0\n",
       "1        20                            0                                     0\n",
       "2        12                            1                                     0\n",
       "3        16                            0                                     0\n",
       "4        22                            0                                     1"
      ]
     },
     "execution_count": 10,
     "metadata": {},
     "output_type": "execute_result"
    }
   ],
   "source": [
    "## Dummy Encoding\n",
    "# Create a sample dataframe with categorical variable\n",
    "data = [[10, 'high school'], [20, 'graduate degree'], [12, 'high school'], [16, 'graduate degree'], [22, 'undergraduate degree']]\n",
    "df = pd.DataFrame(data, columns=['Distance', 'Education level'])\n",
    "\n",
    "# Use pandas 'get_dummies' function to perform dummy encoding on the 'Education level' column\n",
    "# - 'drop_first=True' drops the first category to avoid multicollinearity (dummy variable trap)\n",
    "# - 'prefix='Education level'' adds a prefix to the new dummy variable column names\n",
    "dummy_df = pd.get_dummies(df['Education level'], drop_first=True, prefix='Education level')\n",
    "\n",
    "#Concatenate the original DataFrame 'df' with the newly created dummy variables in 'dummy_df'\n",
    "df = pd.concat([df, dummy_df], axis=1)\n",
    "\n",
    "# Drop the original 'Education level' column as it's no longer needed\n",
    "df=df.drop('Education level',axis=1)\n",
    "df"
   ]
  },
  {
   "cell_type": "markdown",
   "id": "91768646",
   "metadata": {},
   "source": [
    "# Practice task 3.1 - Develop the classification model (logistic regression) for travel mode choices "
   ]
  },
  {
   "cell_type": "code",
   "execution_count": 17,
   "id": "21183de1",
   "metadata": {},
   "outputs": [
    {
     "name": "stderr",
     "output_type": "stream",
     "text": [
      "/Users/svabbi16/opt/anaconda3/lib/python3.9/site-packages/sklearn/linear_model/_logistic.py:814: ConvergenceWarning: lbfgs failed to converge (status=1):\n",
      "STOP: TOTAL NO. of ITERATIONS REACHED LIMIT.\n",
      "\n",
      "Increase the number of iterations (max_iter) or scale the data as shown in:\n",
      "    https://scikit-learn.org/stable/modules/preprocessing.html\n",
      "Please also refer to the documentation for alternative solver options:\n",
      "    https://scikit-learn.org/stable/modules/linear_model.html#logistic-regression\n",
      "  n_iter_i = _check_optimize_result(\n"
     ]
    },
    {
     "data": {
      "text/plain": [
       "LogisticRegression(max_iter=1000, random_state=0)"
      ]
     },
     "execution_count": 17,
     "metadata": {},
     "output_type": "execute_result"
    }
   ],
   "source": [
    "# Columns 'service_air' and 'service_rail' will be one-hot encoded\n",
    "df = pd.get_dummies(data, columns=['service_air', 'service_rail'])\n",
    "\n",
    "# Create feature variable 'x' by dropping the 'choice' and 'ID' columns from the DataFrame\n",
    "# Create target variable 'y' by selecting the 'choice' column from the DataFrame\n",
    "x = df.drop(['choice','ID',], axis=1)\n",
    "y = df['choice']\n",
    "\n",
    "# Split the dataset into training and testing sets, with 80% for training and 20% for testing\n",
    "# - 'random_state' ensures reproducibility of results\n",
    "x_train, x_test, y_train, y_test = train_test_split(x, y, test_size=0.2,random_state=0)\n",
    "\n",
    "# Create a LogisticRegression model with a maximum of 1000 iterations and a fixed random seed\n",
    "model = LogisticRegression(max_iter=1000, random_state=0)\n",
    "\n",
    "# Train the LogisticRegression model on the training data\n",
    "model.fit(x_train, y_train)"
   ]
  },
  {
   "cell_type": "code",
   "execution_count": 18,
   "id": "625e5eb5",
   "metadata": {},
   "outputs": [
    {
     "name": "stdout",
     "output_type": "stream",
     "text": [
      "The accuracy of the model is: 0.5584415584415584\n"
     ]
    },
    {
     "data": {
      "image/png": "[encoded data removed]",
      "text/plain": [
       "<Figure size 432x288 with 1 Axes>"
      ]
     },
     "metadata": {
      "needs_background": "light"
     },
     "output_type": "display_data"
    }
   ],
   "source": [
    "# Create a confusion matrix display from the trained 'model' using the test data 'x_test' and true labels 'y_test'\n",
    "# - 'cmap' sets the color map for the display to 'Blues'\n",
    "# - 'colorbar=False' hides the color bar in the confusion matrix\n",
    "cmd.from_estimator(model, x_test, y_test,cmap='Blues',colorbar=False)\n",
    "\n",
    "# Calculate the accuracy of the model by comparing predicted labels to true labels\n",
    "print('The accuracy of the model is: '+str(accuracy_score(y_test,model.predict(x_test))))"
   ]
  },
  {
   "cell_type": "code",
   "execution_count": 20,
   "id": "2f2fdb1e",
   "metadata": {},
   "outputs": [
    {
     "name": "stdout",
     "output_type": "stream",
     "text": [
      "time_car                  275\n",
      "cost_car                   45\n",
      "time_bus                  360\n",
      "cost_bus                   25\n",
      "access_bus                 20\n",
      "time_air                   90\n",
      "cost_air                   65\n",
      "access_air                 35\n",
      "time_rail                 130\n",
      "cost_rail                  55\n",
      "access_rail                20\n",
      "service_air_food            0\n",
      "service_air_no-frills       0\n",
      "service_air_wifi            1\n",
      "service_rail_food           1\n",
      "service_rail_no-frills      0\n",
      "service_rail_wifi           0\n",
      "Name: 100, dtype: int64\n",
      "[[0.43012833 0.02131375 0.29493669 0.25362123]]\n",
      "['air']\n"
     ]
    }
   ],
   "source": [
    "# Select a single test case from the feature data 'x' using integer-based indexing (e.g., 100th row)\n",
    "test_case = x.iloc[100]\n",
    "\n",
    "# Use the trained 'model' to predict the class probabilities for the selected test case\n",
    "predicted_probabilities = model.predict_proba(pd.DataFrame(test_case).T)\n",
    "\n",
    "# Use the trained 'model' to predict the class label for the selected test case\n",
    "predicted_label = model.predict(pd.DataFrame(test_case).T)\n",
    "\n",
    "print(test_case)\n",
    "print(predicted_probabilities)\n",
    "print(predicted_label)"
   ]
  },
  {
   "cell_type": "markdown",
   "id": "7b052ad4",
   "metadata": {},
   "source": [
    "We decrease the travel time of car to see the changes of predicted probabilities and the predicted label.\n"
   ]
  },
  {
   "cell_type": "code",
   "execution_count": 24,
   "id": "47bba35a",
   "metadata": {},
   "outputs": [
    {
     "name": "stdout",
     "output_type": "stream",
     "text": [
      "time_car                  100\n",
      "cost_car                   45\n",
      "time_bus                  360\n",
      "cost_bus                   25\n",
      "access_bus                 20\n",
      "time_air                   90\n",
      "cost_air                   65\n",
      "access_air                 35\n",
      "time_rail                 130\n",
      "cost_rail                  55\n",
      "access_rail                20\n",
      "service_air_food            0\n",
      "service_air_no-frills       0\n",
      "service_air_wifi            1\n",
      "service_rail_food           1\n",
      "service_rail_no-frills      0\n",
      "service_rail_wifi           0\n",
      "Name: 100, dtype: int64\n",
      "[[0.22279398 0.00661962 0.66242778 0.10815862]]\n",
      "['car']\n"
     ]
    }
   ],
   "source": [
    "modified_test_case=test_case.copy()\n",
    "modified_test_case['time_car']=100\n",
    "predicted_probabilities = model.predict_proba(pd.DataFrame(modified_test_case).T)\n",
    "predicted_label = model.predict(pd.DataFrame(modified_test_case).T)\n",
    "\n",
    "print(modified_test_case)\n",
    "print(predicted_probabilities)\n",
    "print(predicted_label)"
   ]
  },
  {
   "cell_type": "markdown",
   "id": "f4c6ff26",
   "metadata": {},
   "source": [
    "# Practice task 3.2 - Explore the performance of different categorization embedding methods"
   ]
  },
  {
   "cell_type": "code",
   "execution_count": 26,
   "id": "34727819",
   "metadata": {},
   "outputs": [
    {
     "name": "stdout",
     "output_type": "stream",
     "text": [
      "The accuracy of the model is: 0.5698051948051948\n"
     ]
    },
    {
     "data": {
      "image/png": "[encoded data removed]",
      "text/plain": [
       "<Figure size 432x288 with 1 Axes>"
      ]
     },
     "metadata": {
      "needs_background": "light"
     },
     "output_type": "display_data"
    }
   ],
   "source": [
    "#Use 'warnings.filterwarnings' to suppress redundant 'ConvergenceWarning' messages\n",
    "import warnings\n",
    "from sklearn.exceptions import ConvergenceWarning\n",
    "warnings.filterwarnings(\"ignore\", category=ConvergenceWarning)\n",
    "\n",
    "\n",
    "url = 'https://raw.githubusercontent.com/zhenliangma/Applied-AI-in-Transportation/master/Exercise-3%20mode%20choice%20model/modeChoiceData.csv'\n",
    "data = pd.read_csv(url)\n",
    "\n",
    "#(1) One-Hot Encoding\n",
    "# df = pd.get_dummies(data, columns=['service_air', 'service_rail'])\n",
    "\n",
    "#(2) Label Encoding\n",
    "encoder = LabelEncoder()\n",
    "df=data.copy()\n",
    "df['service_air'] = encoder.fit_transform(df['service_air'])\n",
    "df['service_rail'] = encoder.fit_transform(df['service_rail'])\n",
    "\n",
    "#(3) Dummy Encoding\n",
    "# df=data.copy()\n",
    "# dummy_df = pd.get_dummies(df[['service_air', 'service_rail']], drop_first=True)\n",
    "# df = pd.concat([df, dummy_df], axis=1)\n",
    "# df=df.drop(['service_air', 'service_rail'],axis=1)\n",
    "\n",
    "x = df.drop(['choice','ID',], axis=1)\n",
    "y = df['choice']\n",
    "x_train, x_test, y_train, y_test = train_test_split(x, y, test_size=0.2,random_state=0)\n",
    "model = LogisticRegression(max_iter=1000, random_state=0)\n",
    "model.fit(x_train, y_train)\n",
    "\n",
    "cmd.from_estimator(model, x_test, y_test,cmap='Blues',colorbar=False)\n",
    "print('The accuracy of the model is: '+str(accuracy_score(y_test,model.predict(x_test))))"
   ]
  },
  {
   "cell_type": "markdown",
   "id": "0815bcc9",
   "metadata": {},
   "source": [
    "# Practice task 3.3 - Explore the performance of different classification models"
   ]
  },
  {
   "cell_type": "code",
   "execution_count": 40,
   "id": "1476e8e3",
   "metadata": {},
   "outputs": [
    {
     "name": "stdout",
     "output_type": "stream",
     "text": [
      "The accuracy of the model is: 0.5584415584415584\n"
     ]
    },
    {
     "data": {
      "image/png": "[encoded data removed]",
      "text/plain": [
       "<Figure size 432x288 with 1 Axes>"
      ]
     },
     "metadata": {
      "needs_background": "light"
     },
     "output_type": "display_data"
    }
   ],
   "source": [
    "import pandas as pd\n",
    "from sklearn.metrics import ConfusionMatrixDisplay as cmd\n",
    "from sklearn.metrics import accuracy_score\n",
    "from sklearn.model_selection import train_test_split\n",
    "# Different methods used\n",
    "from sklearn.linear_model import LogisticRegression\n",
    "from sklearn.neighbors import KNeighborsClassifier\n",
    "from sklearn.ensemble import RandomForestClassifier\n",
    "from xgboost import XGBClassifier\n",
    "from sklearn.svm import SVC\n",
    "from sklearn.naive_bayes import BernoulliNB\n",
    "import os\n",
    "\n",
    "url = 'https://raw.githubusercontent.com/zhenliangma/Applied-AI-in-Transportation/master/Exercise-3%20mode%20choice%20model/modeChoiceData.csv'\n",
    "data = pd.read_csv(url)\n",
    "df = pd.get_dummies(data, columns=['service_air', 'service_rail'])\n",
    "x = df.drop(['choice','ID',], axis=1)\n",
    "y = df['choice']\n",
    "x_train, x_test, y_train, y_test = train_test_split(x, y, test_size=0.2,random_state=0)\n",
    "\n",
    "model.fit(x_train, y_train)\n",
    "cmd.from_estimator(model, x_test, y_test,cmap='Blues',colorbar=False)\n",
    "print('The accuracy of the model is: '+str(accuracy_score(y_test,model.predict(x_test))))"
   ]
  },
  {
   "cell_type": "code",
   "execution_count": 41,
   "id": "d83b0370",
   "metadata": {},
   "outputs": [
    {
     "name": "stdout",
     "output_type": "stream",
     "text": [
      "The accuracy of the model is: 0.5584415584415584\n"
     ]
    },
    {
     "data": {
      "image/png": "[encoded data removed]",
      "text/plain": [
       "<Figure size 432x288 with 1 Axes>"
      ]
     },
     "metadata": {
      "needs_background": "light"
     },
     "output_type": "display_data"
    }
   ],
   "source": [
    "#(1)LR\n",
    "model = LogisticRegression(max_iter=1000, random_state=0)\n",
    "\n",
    "model.fit(x_train, y_train)\n",
    "cmd.from_estimator(model, x_test, y_test,cmap='Blues',colorbar=False)\n",
    "print('The accuracy of the model is: '+str(accuracy_score(y_test,model.predict(x_test))))"
   ]
  },
  {
   "cell_type": "code",
   "execution_count": 42,
   "id": "b99d32ee",
   "metadata": {},
   "outputs": [
    {
     "name": "stdout",
     "output_type": "stream",
     "text": [
      "The accuracy of the model is: 0.5243506493506493\n"
     ]
    },
    {
     "data": {
      "image/png": "[encoded data removed]",
      "text/plain": [
       "<Figure size 432x288 with 1 Axes>"
      ]
     },
     "metadata": {
      "needs_background": "light"
     },
     "output_type": "display_data"
    }
   ],
   "source": [
    "#(2)KNN\n",
    "model=KNeighborsClassifier()\n",
    "\n",
    "model.fit(x_train, y_train)\n",
    "cmd.from_estimator(model, x_test, y_test,cmap='Blues',colorbar=False)\n",
    "print('The accuracy of the model is: '+str(accuracy_score(y_test,model.predict(x_test))))"
   ]
  },
  {
   "cell_type": "code",
   "execution_count": 43,
   "id": "98dfd2ae",
   "metadata": {},
   "outputs": [
    {
     "name": "stdout",
     "output_type": "stream",
     "text": [
      "The accuracy of the model is: 0.5146103896103896\n"
     ]
    },
    {
     "data": {
      "image/png": "[encoded data removed]",
      "text/plain": [
       "<Figure size 432x288 with 1 Axes>"
      ]
     },
     "metadata": {
      "needs_background": "light"
     },
     "output_type": "display_data"
    }
   ],
   "source": [
    "#(3)RF\n",
    "model = RandomForestClassifier(random_state=0)\n",
    "\n",
    "model.fit(x_train, y_train)\n",
    "cmd.from_estimator(model, x_test, y_test,cmap='Blues',colorbar=False)\n",
    "print('The accuracy of the model is: '+str(accuracy_score(y_test,model.predict(x_test))))"
   ]
  },
  {
   "cell_type": "code",
   "execution_count": 45,
   "id": "b12f3bdf",
   "metadata": {},
   "outputs": [
    {
     "name": "stdout",
     "output_type": "stream",
     "text": [
      "The accuracy of the model is: 0.5211038961038961\n"
     ]
    },
    {
     "data": {
      "image/png": "[encoded data removed]",
      "text/plain": [
       "<Figure size 432x288 with 1 Axes>"
      ]
     },
     "metadata": {
      "needs_background": "light"
     },
     "output_type": "display_data"
    }
   ],
   "source": [
    "#(4)XGBoost\n",
    "## Use the 'map' method to replace categorical labels in 'y_train' with their corresponding numerical values\n",
    "## Otherwise, It will report errors!\n",
    "map = {'air': 0, 'bus': 1, 'car': 2,'rail':3}\n",
    "y_train = y_train.map(map)\n",
    "y_test = y_test.map(map)\n",
    "model =  XGBClassifier()\n",
    "\n",
    "model.fit(x_train, y_train)\n",
    "cmd.from_estimator(model, x_test, y_test,cmap='Blues',colorbar=False)\n",
    "print('The accuracy of the model is: '+str(accuracy_score(y_test,model.predict(x_test))))"
   ]
  },
  {
   "cell_type": "code",
   "execution_count": 44,
   "id": "1f73fa31",
   "metadata": {},
   "outputs": [
    {
     "name": "stdout",
     "output_type": "stream",
     "text": [
      "The accuracy of the model is: 0.5584415584415584\n"
     ]
    },
    {
     "data": {
      "image/png": "[encoded data removed]",
      "text/plain": [
       "<Figure size 432x288 with 1 Axes>"
      ]
     },
     "metadata": {
      "needs_background": "light"
     },
     "output_type": "display_data"
    }
   ],
   "source": [
    "#(5)SVM\n",
    "model= SVC(kernel=\"linear\")\n",
    "\n",
    "model.fit(x_train, y_train)\n",
    "cmd.from_estimator(model, x_test, y_test,cmap='Blues',colorbar=False)\n",
    "print('The accuracy of the model is: '+str(accuracy_score(y_test,model.predict(x_test))))"
   ]
  },
  {
   "cell_type": "markdown",
   "id": "19af27c0",
   "metadata": {},
   "source": [
    "# Practice task 3.4 - Choose the best model based on different accuracy measures"
   ]
  },
  {
   "cell_type": "code",
   "execution_count": 48,
   "id": "91f33531",
   "metadata": {},
   "outputs": [
    {
     "name": "stdout",
     "output_type": "stream",
     "text": [
      "Accuracy: 0.5584415584415584\n",
      "Precision: [0.54477612 0.25       0.46859903 0.63837638]\n",
      "Recall: [0.52898551 0.04545455 0.49238579 0.66795367]\n"
     ]
    },
    {
     "data": {
      "image/png": "[encoded data removed]",
      "text/plain": [
       "<Figure size 432x288 with 1 Axes>"
      ]
     },
     "metadata": {
      "needs_background": "light"
     },
     "output_type": "display_data"
    }
   ],
   "source": [
    "from sklearn.metrics import ConfusionMatrixDisplay as cmd\n",
    "from sklearn.metrics import accuracy_score\n",
    "from sklearn.model_selection import train_test_split\n",
    "from sklearn.linear_model import LogisticRegression\n",
    "from sklearn.ensemble import RandomForestClassifier\n",
    "from sklearn.metrics import precision_score, recall_score\n",
    "import pandas as pd\n",
    "import warnings\n",
    "from sklearn.exceptions import ConvergenceWarning\n",
    "warnings.filterwarnings(\"ignore\", category=ConvergenceWarning)\n",
    "\n",
    "import os\n",
    "\n",
    "url = 'https://raw.githubusercontent.com/zhenliangma/Applied-AI-in-Transportation/master/Exercise-3%20mode%20choice%20model/modeChoiceData.csv'\n",
    "data = pd.read_csv(url)\n",
    "df = pd.get_dummies(data, columns=['service_air', 'service_rail'])\n",
    "x = df.drop(['choice','ID',], axis=1)\n",
    "y = df['choice']\n",
    "x_train, x_test, y_train, y_test = train_test_split(x, y, test_size=0.2,random_state=0)\n",
    "\n",
    "#(1)LR\n",
    "model = LogisticRegression(max_iter=1000, random_state=0)\n",
    "\n",
    "model.fit(x_train, y_train)\n",
    "cmd.from_estimator(model, x_test, y_test,cmap='Blues',colorbar=False)\n",
    "\n",
    "# Calculate different measurements\n",
    "print(f'Accuracy: {accuracy_score(y_test,model.predict(x_test))}')\n",
    "print(f'Precision: {precision_score(y_test,model.predict(x_test),average=None)}')\n",
    "print(f'Recall: {recall_score(y_test,model.predict(x_test),average=None)}')"
   ]
  },
  {
   "cell_type": "code",
   "execution_count": 49,
   "id": "6495b549",
   "metadata": {},
   "outputs": [
    {
     "name": "stdout",
     "output_type": "stream",
     "text": [
      "Accuracy: 0.5146103896103896\n",
      "Precision: [0.48550725 0.16666667 0.42708333 0.59642857]\n",
      "Recall: [0.48550725 0.04545455 0.41624365 0.64478764]\n"
     ]
    },
    {
     "data": {
      "image/png": "[encoded data removed]",
      "text/plain": [
       "<Figure size 432x288 with 1 Axes>"
      ]
     },
     "metadata": {
      "needs_background": "light"
     },
     "output_type": "display_data"
    }
   ],
   "source": [
    "#(2)KNN\n",
    "model = RandomForestClassifier(random_state=0)\n",
    "\n",
    "model.fit(x_train, y_train)\n",
    "cmd.from_estimator(model, x_test, y_test,cmap='Blues',colorbar=False)\n",
    "\n",
    "# Calculate different measurements\n",
    "print(f'Accuracy: {accuracy_score(y_test,model.predict(x_test))}')\n",
    "print(f'Precision: {precision_score(y_test,model.predict(x_test),average=None)}')\n",
    "print(f'Recall: {recall_score(y_test,model.predict(x_test),average=None)}')"
   ]
  },
  {
   "cell_type": "markdown",
   "id": "e09bb957",
   "metadata": {},
   "source": [
    "Logistic Regression is a slightly better choice than the KKN. Having a 4% higher accuracy and some higher values in Precision and Recall."
   ]
  },
  {
   "cell_type": "markdown",
   "id": "8940e355",
   "metadata": {},
   "source": [
    "# Assignment task - Find the best classification model for the travel mode choices prediction (assignment submission)"
   ]
  },
  {
   "cell_type": "markdown",
   "id": "09cd4ea1",
   "metadata": {},
   "source": [
    "### 11 One-Hot Coding & Logistic Regression"
   ]
  },
  {
   "cell_type": "code",
   "execution_count": 51,
   "id": "32a05786",
   "metadata": {},
   "outputs": [
    {
     "name": "stdout",
     "output_type": "stream",
     "text": [
      "{'C': 0.01}\n",
      "Accuracy: 0.5746753246753247\n",
      "Precision: [0.55244755 0.25       0.48803828 0.66153846]\n",
      "Recall: [0.57246377 0.04545455 0.5177665  0.66409266]\n"
     ]
    },
    {
     "data": {
      "image/png": "[encoded data removed]",
      "text/plain": [
       "<Figure size 432x288 with 1 Axes>"
      ]
     },
     "metadata": {
      "needs_background": "light"
     },
     "output_type": "display_data"
    }
   ],
   "source": [
    "from sklearn.preprocessing import LabelEncoder\n",
    "from sklearn.model_selection import train_test_split,GridSearchCV\n",
    "from sklearn.linear_model import LogisticRegression\n",
    "from sklearn.neighbors import KNeighborsClassifier\n",
    "from sklearn.ensemble import RandomForestClassifier\n",
    "from xgboost import XGBClassifier\n",
    "from sklearn.svm import SVC\n",
    "from sklearn.naive_bayes import BernoulliNB\n",
    "from sklearn.metrics import ConfusionMatrixDisplay as cmd\n",
    "from sklearn.metrics import accuracy_score, precision_score, recall_score\n",
    "import pandas as pd\n",
    "import os\n",
    "import warnings\n",
    "from sklearn.exceptions import ConvergenceWarning\n",
    "warnings.filterwarnings(\"ignore\", category=ConvergenceWarning)\n",
    "\n",
    "url = 'modeChoiceData.csv'\n",
    "data = pd.read_csv(url)\n",
    "\n",
    "##---------------------The choice of encoding method---------------------------\n",
    "#(1) One-Hot Encoding\n",
    "df = pd.get_dummies(data, columns=['service_air', 'service_rail'])\n",
    "\n",
    "#(2) Label Encoding\n",
    "# encoder = LabelEncoder()\n",
    "# df=data.copy()\n",
    "# df['service_air'] = encoder.fit_transform(df['service_air'])\n",
    "# df['service_rail'] = encoder.fit_transform(df['service_rail'])\n",
    "\n",
    "#(3) Dummy Encoding\n",
    "# df=data.copy()\n",
    "# dummy_df = pd.get_dummies(df[['service_air', 'service_rail']], drop_first=True)\n",
    "# df = pd.concat([df, dummy_df], axis=1)\n",
    "# df=df.drop(['service_air', 'service_rail'],axis=1)\n",
    "\n",
    "x = df.drop(['choice','ID',], axis=1)\n",
    "y = df['choice']\n",
    "x_train, x_test, y_train, y_test = train_test_split(x, y, test_size=0.2,random_state=0)\n",
    "\n",
    "##---------------------The choice of classification model---------------------------\n",
    "#(1)LR\n",
    "params = {\n",
    "     'C': [0.001, 0.01, 0.1, 1, 10, 100],\n",
    "}\n",
    "model = LogisticRegression(max_iter=1000, random_state=0)\n",
    "\n",
    "# Initialize a GridSearchCV object to perform hyperparameter tuning\n",
    "# - 'estimator': The machine learning model (in this case, 'model') to be tuned.\n",
    "# - 'param_grid': A dictionary specifying the hyperparameter grid to search.\n",
    "# - 'cv': The number of cross-validation folds (here, 5-fold cross-validation is used).\n",
    "# - 'scoring': The evaluation metric used to compare different hyperparameter settings\n",
    "# --('accuracy','precision','recall, etc. see https://scikit-learn.org/stable/modules/model_evaluation.html#scoring-parameter).\n",
    "grid_search = GridSearchCV(estimator=model, param_grid=params, cv=5, scoring='accuracy')\n",
    "\n",
    "# Fit the GridSearchCV object to the training data to perform hyperparameter tuning\n",
    "grid_search.fit(x_train, y_train)\n",
    "\n",
    "# Retrieve the best hyperparameters identified by the grid search\n",
    "best_params = grid_search.best_params_\n",
    "print(best_params)\n",
    "# Retrieve the best cross-validated accuracy score achieved with the best hyperparameters\n",
    "best_score = grid_search.best_score_\n",
    "\n",
    "# Set 'model' to be the best estimator (model with the best hyperparameters) identified by the grid search\n",
    "model = grid_search.best_estimator_\n",
    "\n",
    "cmd.from_estimator(model, x_test, y_test,cmap='Blues',colorbar=False)\n",
    "\n",
    "\n",
    "##---------------------Different measurements---------------------------\n",
    "print(f'Accuracy: {accuracy_score(y_test,model.predict(x_test))}')\n",
    "print(f'Precision: {precision_score(y_test,model.predict(x_test),average=None)}')\n",
    "print(f'Recall: {recall_score(y_test,model.predict(x_test),average=None)}')"
   ]
  },
  {
   "cell_type": "markdown",
   "id": "03281d82",
   "metadata": {},
   "source": [
    "### 12 One-Hot Coding & KNN"
   ]
  },
  {
   "cell_type": "code",
   "execution_count": 62,
   "id": "87a37898",
   "metadata": {},
   "outputs": [
    {
     "name": "stdout",
     "output_type": "stream",
     "text": [
      "{'n_neighbors': 9, 'weights': 'uniform'}\n",
      "Accuracy: 0.5113636363636364\n",
      "Precision: [0.47191011 0.375      0.44242424 0.58490566]\n",
      "Recall: [0.60869565 0.13636364 0.37055838 0.5984556 ]\n"
     ]
    },
    {
     "data": {
      "image/png": "[encoded data removed]",
      "text/plain": [
       "<Figure size 432x288 with 1 Axes>"
      ]
     },
     "metadata": {
      "needs_background": "light"
     },
     "output_type": "display_data"
    }
   ],
   "source": [
    "#(2)KNN\n",
    "params = {\n",
    "     'n_neighbors': [3, 5, 7, 9],\n",
    "     'weights': ['uniform', 'distance']\n",
    "}\n",
    "model=KNeighborsClassifier()\n",
    "\n",
    "# Initialize a GridSearchCV object to perform hyperparameter tuning\n",
    "# - 'estimator': The machine learning model (in this case, 'model') to be tuned.\n",
    "# - 'param_grid': A dictionary specifying the hyperparameter grid to search.\n",
    "# - 'cv': The number of cross-validation folds (here, 5-fold cross-validation is used).\n",
    "# - 'scoring': The evaluation metric used to compare different hyperparameter settings\n",
    "# --('accuracy','precision','recall, etc. see https://scikit-learn.org/stable/modules/model_evaluation.html#scoring-parameter).\n",
    "grid_search = GridSearchCV(estimator=model, param_grid=params, cv=5, scoring='accuracy')\n",
    "\n",
    "# Fit the GridSearchCV object to the training data to perform hyperparameter tuning\n",
    "grid_search.fit(x_train, y_train)\n",
    "\n",
    "# Retrieve the best hyperparameters identified by the grid search\n",
    "best_params = grid_search.best_params_\n",
    "print(best_params)\n",
    "# Retrieve the best cross-validated accuracy score achieved with the best hyperparameters\n",
    "best_score = grid_search.best_score_\n",
    "\n",
    "# Set 'model' to be the best estimator (model with the best hyperparameters) identified by the grid search\n",
    "model = grid_search.best_estimator_\n",
    "\n",
    "cmd.from_estimator(model, x_test, y_test,cmap='Blues',colorbar=False)\n",
    "\n",
    "\n",
    "##---------------------Different measurements---------------------------\n",
    "print(f'Accuracy: {accuracy_score(y_test,model.predict(x_test))}')\n",
    "print(f'Precision: {precision_score(y_test,model.predict(x_test),average=None)}')\n",
    "print(f'Recall: {recall_score(y_test,model.predict(x_test),average=None)}')\n"
   ]
  },
  {
   "cell_type": "markdown",
   "id": "1680da7d",
   "metadata": {},
   "source": [
    "### 13 One-Hot Coding & RF"
   ]
  },
  {
   "cell_type": "code",
   "execution_count": 53,
   "id": "4e48741e",
   "metadata": {},
   "outputs": [
    {
     "name": "stdout",
     "output_type": "stream",
     "text": [
      "{'max_depth': 10, 'min_samples_leaf': 2, 'min_samples_split': 5, 'n_estimators': 300}\n",
      "Accuracy: 0.5113636363636364\n",
      "Precision: [0.49635036 0.25       0.4120603  0.5942029 ]\n",
      "Recall: [0.49275362 0.04545455 0.41624365 0.63320463]\n"
     ]
    },
    {
     "data": {
      "image/png": "[encoded data removed]",
      "text/plain": [
       "<Figure size 432x288 with 1 Axes>"
      ]
     },
     "metadata": {
      "needs_background": "light"
     },
     "output_type": "display_data"
    }
   ],
   "source": [
    "#(3)RF\n",
    "params = {\n",
    "     'n_estimators': [100, 200, 300],\n",
    "     'max_depth': [None, 10, 20, 30],\n",
    "     'min_samples_split': [2, 5, 10],\n",
    "     'min_samples_leaf': [1, 2, 4]\n",
    "}\n",
    "model = RandomForestClassifier(random_state=0)\n",
    "\n",
    "# Initialize a GridSearchCV object to perform hyperparameter tuning\n",
    "# - 'estimator': The machine learning model (in this case, 'model') to be tuned.\n",
    "# - 'param_grid': A dictionary specifying the hyperparameter grid to search.\n",
    "# - 'cv': The number of cross-validation folds (here, 5-fold cross-validation is used).\n",
    "# - 'scoring': The evaluation metric used to compare different hyperparameter settings\n",
    "# --('accuracy','precision','recall, etc. see https://scikit-learn.org/stable/modules/model_evaluation.html#scoring-parameter).\n",
    "grid_search = GridSearchCV(estimator=model, param_grid=params, cv=5, scoring='accuracy')\n",
    "\n",
    "# Fit the GridSearchCV object to the training data to perform hyperparameter tuning\n",
    "grid_search.fit(x_train, y_train)\n",
    "\n",
    "# Retrieve the best hyperparameters identified by the grid search\n",
    "best_params = grid_search.best_params_\n",
    "print(best_params)\n",
    "# Retrieve the best cross-validated accuracy score achieved with the best hyperparameters\n",
    "best_score = grid_search.best_score_\n",
    "\n",
    "# Set 'model' to be the best estimator (model with the best hyperparameters) identified by the grid search\n",
    "model = grid_search.best_estimator_\n",
    "\n",
    "cmd.from_estimator(model, x_test, y_test,cmap='Blues',colorbar=False)\n",
    "\n",
    "\n",
    "##---------------------Different measurements---------------------------\n",
    "print(f'Accuracy: {accuracy_score(y_test,model.predict(x_test))}')\n",
    "print(f'Precision: {precision_score(y_test,model.predict(x_test),average=None)}')\n",
    "print(f'Recall: {recall_score(y_test,model.predict(x_test),average=None)}')"
   ]
  },
  {
   "cell_type": "markdown",
   "id": "f552254d",
   "metadata": {},
   "source": [
    "### 14 One-Hot Coding & XGBoost"
   ]
  },
  {
   "cell_type": "code",
   "execution_count": 54,
   "id": "35d9e8ba",
   "metadata": {},
   "outputs": [
    {
     "name": "stdout",
     "output_type": "stream",
     "text": [
      "{'learning_rate': 0.01, 'max_depth': 3, 'n_estimators': 300}\n",
      "Accuracy: 0.5746753246753247\n",
      "Precision: [0.57462687 0.         0.4841629  0.651341  ]\n",
      "Recall: [0.55797101 0.         0.54314721 0.65637066]\n"
     ]
    },
    {
     "name": "stderr",
     "output_type": "stream",
     "text": [
      "/Users/svabbi16/opt/anaconda3/lib/python3.9/site-packages/sklearn/metrics/_classification.py:1318: UndefinedMetricWarning: Precision is ill-defined and being set to 0.0 in labels with no predicted samples. Use `zero_division` parameter to control this behavior.\n",
      "  _warn_prf(average, modifier, msg_start, len(result))\n"
     ]
    },
    {
     "data": {
      "image/png": "[encoded data removed]",
      "text/plain": [
       "<Figure size 432x288 with 1 Axes>"
      ]
     },
     "metadata": {
      "needs_background": "light"
     },
     "output_type": "display_data"
    }
   ],
   "source": [
    "#(4)XGBoost\n",
    "params = {\n",
    "    'learning_rate': [0.01, 0.1, 0.2],\n",
    "    'n_estimators': [100, 200, 300],\n",
    "    'max_depth': [3, 4, 5]\n",
    "}\n",
    "map = {'air': 0, 'bus': 1, 'car': 2,'rail':3}\n",
    "y_train = y_train.map(map)\n",
    "y_test = y_test.map(map)\n",
    "model =  XGBClassifier()\n",
    "\n",
    "# Initialize a GridSearchCV object to perform hyperparameter tuning\n",
    "# - 'estimator': The machine learning model (in this case, 'model') to be tuned.\n",
    "# - 'param_grid': A dictionary specifying the hyperparameter grid to search.\n",
    "# - 'cv': The number of cross-validation folds (here, 5-fold cross-validation is used).\n",
    "# - 'scoring': The evaluation metric used to compare different hyperparameter settings\n",
    "# --('accuracy','precision','recall, etc. see https://scikit-learn.org/stable/modules/model_evaluation.html#scoring-parameter).\n",
    "grid_search = GridSearchCV(estimator=model, param_grid=params, cv=5, scoring='accuracy')\n",
    "\n",
    "# Fit the GridSearchCV object to the training data to perform hyperparameter tuning\n",
    "grid_search.fit(x_train, y_train)\n",
    "\n",
    "# Retrieve the best hyperparameters identified by the grid search\n",
    "best_params = grid_search.best_params_\n",
    "print(best_params)\n",
    "# Retrieve the best cross-validated accuracy score achieved with the best hyperparameters\n",
    "best_score = grid_search.best_score_\n",
    "\n",
    "# Set 'model' to be the best estimator (model with the best hyperparameters) identified by the grid search\n",
    "model = grid_search.best_estimator_\n",
    "\n",
    "cmd.from_estimator(model, x_test, y_test,cmap='Blues',colorbar=False)\n",
    "\n",
    "\n",
    "##---------------------Different measurements---------------------------\n",
    "print(f'Accuracy: {accuracy_score(y_test,model.predict(x_test))}')\n",
    "print(f'Precision: {precision_score(y_test,model.predict(x_test),average=None)}')\n",
    "print(f'Recall: {recall_score(y_test,model.predict(x_test),average=None)}')"
   ]
  },
  {
   "cell_type": "markdown",
   "id": "569680e4",
   "metadata": {},
   "source": [
    "### 15 One-Hot Coding & SVM"
   ]
  },
  {
   "cell_type": "code",
   "execution_count": 55,
   "id": "7521f194",
   "metadata": {},
   "outputs": [
    {
     "name": "stdout",
     "output_type": "stream",
     "text": [
      "{'C': 0.1}\n",
      "Accuracy: 0.564935064935065\n",
      "Precision: [0.54861111 0.         0.4556962  0.68510638]\n",
      "Recall: [0.57246377 0.         0.54822335 0.62162162]\n"
     ]
    },
    {
     "name": "stderr",
     "output_type": "stream",
     "text": [
      "/Users/svabbi16/opt/anaconda3/lib/python3.9/site-packages/sklearn/metrics/_classification.py:1318: UndefinedMetricWarning: Precision is ill-defined and being set to 0.0 in labels with no predicted samples. Use `zero_division` parameter to control this behavior.\n",
      "  _warn_prf(average, modifier, msg_start, len(result))\n"
     ]
    },
    {
     "data": {
      "image/png": "[encoded data removed]",
      "text/plain": [
       "<Figure size 432x288 with 1 Axes>"
      ]
     },
     "metadata": {
      "needs_background": "light"
     },
     "output_type": "display_data"
    }
   ],
   "source": [
    "#(5)SVM\n",
    "## Note: It will costs a long time.\n",
    "params = {\n",
    "    'C': [0.1, 1, 10],\n",
    "}\n",
    "\n",
    "\n",
    "model= SVC(kernel=\"linear\")\n",
    "\n",
    "# Initialize a GridSearchCV object to perform hyperparameter tuning\n",
    "# - 'estimator': The machine learning model (in this case, 'model') to be tuned.\n",
    "# - 'param_grid': A dictionary specifying the hyperparameter grid to search.\n",
    "# - 'cv': The number of cross-validation folds (here, 5-fold cross-validation is used).\n",
    "# - 'scoring': The evaluation metric used to compare different hyperparameter settings\n",
    "# --('accuracy','precision','recall, etc. see https://scikit-learn.org/stable/modules/model_evaluation.html#scoring-parameter).\n",
    "grid_search = GridSearchCV(estimator=model, param_grid=params, cv=5, scoring='accuracy')\n",
    "\n",
    "# Fit the GridSearchCV object to the training data to perform hyperparameter tuning\n",
    "grid_search.fit(x_train, y_train)\n",
    "\n",
    "# Retrieve the best hyperparameters identified by the grid search\n",
    "best_params = grid_search.best_params_\n",
    "print(best_params)\n",
    "# Retrieve the best cross-validated accuracy score achieved with the best hyperparameters\n",
    "best_score = grid_search.best_score_\n",
    "\n",
    "# Set 'model' to be the best estimator (model with the best hyperparameters) identified by the grid search\n",
    "model = grid_search.best_estimator_\n",
    "\n",
    "cmd.from_estimator(model, x_test, y_test,cmap='Blues',colorbar=False)\n",
    "\n",
    "\n",
    "##---------------------Different measurements---------------------------\n",
    "print(f'Accuracy: {accuracy_score(y_test,model.predict(x_test))}')\n",
    "print(f'Precision: {precision_score(y_test,model.predict(x_test),average=None)}')\n",
    "print(f'Recall: {recall_score(y_test,model.predict(x_test),average=None)}')"
   ]
  },
  {
   "cell_type": "markdown",
   "id": "87e37c84",
   "metadata": {},
   "source": [
    "### 21 Label Encoding & Logistic Regression"
   ]
  },
  {
   "cell_type": "code",
   "execution_count": 56,
   "id": "70a1d760",
   "metadata": {},
   "outputs": [
    {
     "name": "stdout",
     "output_type": "stream",
     "text": [
      "{'C': 0.1}\n",
      "Accuracy: 0.5698051948051948\n",
      "Precision: [0.56521739 0.25       0.48292683 0.64312268]\n",
      "Recall: [0.56521739 0.04545455 0.50253807 0.66795367]\n"
     ]
    },
    {
     "data": {
      "image/png": "[encoded data removed]",
      "text/plain": [
       "<Figure size 432x288 with 1 Axes>"
      ]
     },
     "metadata": {
      "needs_background": "light"
     },
     "output_type": "display_data"
    }
   ],
   "source": [
    "from sklearn.preprocessing import LabelEncoder\n",
    "from sklearn.model_selection import train_test_split,GridSearchCV\n",
    "from sklearn.linear_model import LogisticRegression\n",
    "from sklearn.neighbors import KNeighborsClassifier\n",
    "from sklearn.ensemble import RandomForestClassifier\n",
    "from xgboost import XGBClassifier\n",
    "from sklearn.svm import SVC\n",
    "from sklearn.naive_bayes import BernoulliNB\n",
    "from sklearn.metrics import ConfusionMatrixDisplay as cmd\n",
    "from sklearn.metrics import accuracy_score, precision_score, recall_score\n",
    "import pandas as pd\n",
    "import os\n",
    "import warnings\n",
    "from sklearn.exceptions import ConvergenceWarning\n",
    "warnings.filterwarnings(\"ignore\", category=ConvergenceWarning)\n",
    "\n",
    "url = 'modeChoiceData.csv'\n",
    "data = pd.read_csv(url)\n",
    "\n",
    "##---------------------The choice of encoding method---------------------------\n",
    "#(1) One-Hot Encoding\n",
    "#df = pd.get_dummies(data, columns=['service_air', 'service_rail'])\n",
    "\n",
    "#(2) Label Encoding\n",
    "encoder = LabelEncoder()\n",
    "df=data.copy()\n",
    "df['service_air'] = encoder.fit_transform(df['service_air'])\n",
    "df['service_rail'] = encoder.fit_transform(df['service_rail'])\n",
    "\n",
    "#(3) Dummy Encoding\n",
    "# df=data.copy()\n",
    "# dummy_df = pd.get_dummies(df[['service_air', 'service_rail']], drop_first=True)\n",
    "# df = pd.concat([df, dummy_df], axis=1)\n",
    "# df=df.drop(['service_air', 'service_rail'],axis=1)\n",
    "\n",
    "x = df.drop(['choice','ID',], axis=1)\n",
    "y = df['choice']\n",
    "x_train, x_test, y_train, y_test = train_test_split(x, y, test_size=0.2,random_state=0)\n",
    "\n",
    "##---------------------The choice of classification model---------------------------\n",
    "#(1)LR\n",
    "params = {\n",
    "     'C': [0.001, 0.01, 0.1, 1, 10, 100],\n",
    "}\n",
    "model = LogisticRegression(max_iter=1000, random_state=0)\n",
    "\n",
    "# Initialize a GridSearchCV object to perform hyperparameter tuning\n",
    "# - 'estimator': The machine learning model (in this case, 'model') to be tuned.\n",
    "# - 'param_grid': A dictionary specifying the hyperparameter grid to search.\n",
    "# - 'cv': The number of cross-validation folds (here, 5-fold cross-validation is used).\n",
    "# - 'scoring': The evaluation metric used to compare different hyperparameter settings\n",
    "# --('accuracy','precision','recall, etc. see https://scikit-learn.org/stable/modules/model_evaluation.html#scoring-parameter).\n",
    "grid_search = GridSearchCV(estimator=model, param_grid=params, cv=5, scoring='accuracy')\n",
    "\n",
    "# Fit the GridSearchCV object to the training data to perform hyperparameter tuning\n",
    "grid_search.fit(x_train, y_train)\n",
    "\n",
    "# Retrieve the best hyperparameters identified by the grid search\n",
    "best_params = grid_search.best_params_\n",
    "print(best_params)\n",
    "# Retrieve the best cross-validated accuracy score achieved with the best hyperparameters\n",
    "best_score = grid_search.best_score_\n",
    "\n",
    "# Set 'model' to be the best estimator (model with the best hyperparameters) identified by the grid search\n",
    "model = grid_search.best_estimator_\n",
    "\n",
    "cmd.from_estimator(model, x_test, y_test,cmap='Blues',colorbar=False)\n",
    "\n",
    "\n",
    "##---------------------Different measurements---------------------------\n",
    "print(f'Accuracy: {accuracy_score(y_test,model.predict(x_test))}')\n",
    "print(f'Precision: {precision_score(y_test,model.predict(x_test),average=None)}')\n",
    "print(f'Recall: {recall_score(y_test,model.predict(x_test),average=None)}')"
   ]
  },
  {
   "cell_type": "markdown",
   "id": "21460b55",
   "metadata": {},
   "source": [
    "### 22 Label Encoding & KNN"
   ]
  },
  {
   "cell_type": "code",
   "execution_count": 61,
   "id": "f154d44f",
   "metadata": {},
   "outputs": [
    {
     "name": "stdout",
     "output_type": "stream",
     "text": [
      "{'n_neighbors': 9, 'weights': 'uniform'}\n",
      "Accuracy: 0.5113636363636364\n",
      "Precision: [0.47191011 0.375      0.44242424 0.58490566]\n",
      "Recall: [0.60869565 0.13636364 0.37055838 0.5984556 ]\n"
     ]
    },
    {
     "data": {
      "image/png": "[encoded data removed]",
      "text/plain": [
       "<Figure size 432x288 with 1 Axes>"
      ]
     },
     "metadata": {
      "needs_background": "light"
     },
     "output_type": "display_data"
    }
   ],
   "source": [
    "#(2)KNN\n",
    "params = {\n",
    "     'n_neighbors': [3, 5, 7, 9],\n",
    "     'weights': ['uniform', 'distance']\n",
    "}\n",
    "model=KNeighborsClassifier()\n",
    "\n",
    "# Initialize a GridSearchCV object to perform hyperparameter tuning\n",
    "# - 'estimator': The machine learning model (in this case, 'model') to be tuned.\n",
    "# - 'param_grid': A dictionary specifying the hyperparameter grid to search.\n",
    "# - 'cv': The number of cross-validation folds (here, 5-fold cross-validation is used).\n",
    "# - 'scoring': The evaluation metric used to compare different hyperparameter settings\n",
    "# --('accuracy','precision','recall, etc. see https://scikit-learn.org/stable/modules/model_evaluation.html#scoring-parameter).\n",
    "grid_search = GridSearchCV(estimator=model, param_grid=params, cv=5, scoring='accuracy')\n",
    "\n",
    "# Fit the GridSearchCV object to the training data to perform hyperparameter tuning\n",
    "grid_search.fit(x_train, y_train)\n",
    "\n",
    "# Retrieve the best hyperparameters identified by the grid search\n",
    "best_params = grid_search.best_params_\n",
    "print(best_params)\n",
    "# Retrieve the best cross-validated accuracy score achieved with the best hyperparameters\n",
    "best_score = grid_search.best_score_\n",
    "\n",
    "# Set 'model' to be the best estimator (model with the best hyperparameters) identified by the grid search\n",
    "model = grid_search.best_estimator_\n",
    "\n",
    "cmd.from_estimator(model, x_test, y_test,cmap='Blues',colorbar=False)\n",
    "\n",
    "\n",
    "##---------------------Different measurements---------------------------\n",
    "print(f'Accuracy: {accuracy_score(y_test,model.predict(x_test))}')\n",
    "print(f'Precision: {precision_score(y_test,model.predict(x_test),average=None)}')\n",
    "print(f'Recall: {recall_score(y_test,model.predict(x_test),average=None)}')\n"
   ]
  },
  {
   "cell_type": "markdown",
   "id": "dd93f826",
   "metadata": {},
   "source": [
    "### 23 Label Encoding & RF"
   ]
  },
  {
   "cell_type": "code",
   "execution_count": 58,
   "id": "126e0b26",
   "metadata": {},
   "outputs": [
    {
     "name": "stdout",
     "output_type": "stream",
     "text": [
      "{'max_depth': 10, 'min_samples_leaf': 4, 'min_samples_split': 2, 'n_estimators': 300}\n",
      "Accuracy: 0.5162337662337663\n",
      "Precision: [0.49635036 0.25       0.42156863 0.60147601]\n",
      "Recall: [0.49275362 0.04545455 0.43654822 0.62934363]\n"
     ]
    },
    {
     "data": {
      "image/png": "[encoded data removed]",
      "text/plain": [
       "<Figure size 432x288 with 1 Axes>"
      ]
     },
     "metadata": {
      "needs_background": "light"
     },
     "output_type": "display_data"
    }
   ],
   "source": [
    "#(3)RF\n",
    "params = {\n",
    "     'n_estimators': [100, 200, 300],\n",
    "     'max_depth': [None, 10, 20, 30],\n",
    "     'min_samples_split': [2, 5, 10],\n",
    "     'min_samples_leaf': [1, 2, 4]\n",
    "}\n",
    "model = RandomForestClassifier(random_state=0)\n",
    "\n",
    "# Initialize a GridSearchCV object to perform hyperparameter tuning\n",
    "# - 'estimator': The machine learning model (in this case, 'model') to be tuned.\n",
    "# - 'param_grid': A dictionary specifying the hyperparameter grid to search.\n",
    "# - 'cv': The number of cross-validation folds (here, 5-fold cross-validation is used).\n",
    "# - 'scoring': The evaluation metric used to compare different hyperparameter settings\n",
    "# --('accuracy','precision','recall, etc. see https://scikit-learn.org/stable/modules/model_evaluation.html#scoring-parameter).\n",
    "grid_search = GridSearchCV(estimator=model, param_grid=params, cv=5, scoring='accuracy')\n",
    "\n",
    "# Fit the GridSearchCV object to the training data to perform hyperparameter tuning\n",
    "grid_search.fit(x_train, y_train)\n",
    "\n",
    "# Retrieve the best hyperparameters identified by the grid search\n",
    "best_params = grid_search.best_params_\n",
    "print(best_params)\n",
    "# Retrieve the best cross-validated accuracy score achieved with the best hyperparameters\n",
    "best_score = grid_search.best_score_\n",
    "\n",
    "# Set 'model' to be the best estimator (model with the best hyperparameters) identified by the grid search\n",
    "model = grid_search.best_estimator_\n",
    "\n",
    "cmd.from_estimator(model, x_test, y_test,cmap='Blues',colorbar=False)\n",
    "\n",
    "\n",
    "##---------------------Different measurements---------------------------\n",
    "print(f'Accuracy: {accuracy_score(y_test,model.predict(x_test))}')\n",
    "print(f'Precision: {precision_score(y_test,model.predict(x_test),average=None)}')\n",
    "print(f'Recall: {recall_score(y_test,model.predict(x_test),average=None)}')"
   ]
  },
  {
   "cell_type": "markdown",
   "id": "b01bc1ca",
   "metadata": {},
   "source": [
    "### 24 Label Encoding & XGBoost"
   ]
  },
  {
   "cell_type": "code",
   "execution_count": 59,
   "id": "b79d4d5d",
   "metadata": {},
   "outputs": [
    {
     "name": "stdout",
     "output_type": "stream",
     "text": [
      "{'learning_rate': 0.01, 'max_depth': 3, 'n_estimators': 300}\n",
      "Accuracy: 0.5746753246753247\n",
      "Precision: [0.57462687 0.         0.4841629  0.651341  ]\n",
      "Recall: [0.55797101 0.         0.54314721 0.65637066]\n"
     ]
    },
    {
     "name": "stderr",
     "output_type": "stream",
     "text": [
      "/Users/svabbi16/opt/anaconda3/lib/python3.9/site-packages/sklearn/metrics/_classification.py:1318: UndefinedMetricWarning: Precision is ill-defined and being set to 0.0 in labels with no predicted samples. Use `zero_division` parameter to control this behavior.\n",
      "  _warn_prf(average, modifier, msg_start, len(result))\n"
     ]
    },
    {
     "data": {
      "image/png": "[encoded data removed]",
      "text/plain": [
       "<Figure size 432x288 with 1 Axes>"
      ]
     },
     "metadata": {
      "needs_background": "light"
     },
     "output_type": "display_data"
    }
   ],
   "source": [
    "#(4)XGBoost\n",
    "params = {\n",
    "    'learning_rate': [0.01, 0.1, 0.2],\n",
    "    'n_estimators': [100, 200, 300],\n",
    "    'max_depth': [3, 4, 5]\n",
    "}\n",
    "map = {'air': 0, 'bus': 1, 'car': 2,'rail':3}\n",
    "y_train = y_train.map(map)\n",
    "y_test = y_test.map(map)\n",
    "model =  XGBClassifier()\n",
    "\n",
    "# Initialize a GridSearchCV object to perform hyperparameter tuning\n",
    "# - 'estimator': The machine learning model (in this case, 'model') to be tuned.\n",
    "# - 'param_grid': A dictionary specifying the hyperparameter grid to search.\n",
    "# - 'cv': The number of cross-validation folds (here, 5-fold cross-validation is used).\n",
    "# - 'scoring': The evaluation metric used to compare different hyperparameter settings\n",
    "# --('accuracy','precision','recall, etc. see https://scikit-learn.org/stable/modules/model_evaluation.html#scoring-parameter).\n",
    "grid_search = GridSearchCV(estimator=model, param_grid=params, cv=5, scoring='accuracy')\n",
    "\n",
    "# Fit the GridSearchCV object to the training data to perform hyperparameter tuning\n",
    "grid_search.fit(x_train, y_train)\n",
    "\n",
    "# Retrieve the best hyperparameters identified by the grid search\n",
    "best_params = grid_search.best_params_\n",
    "print(best_params)\n",
    "# Retrieve the best cross-validated accuracy score achieved with the best hyperparameters\n",
    "best_score = grid_search.best_score_\n",
    "\n",
    "# Set 'model' to be the best estimator (model with the best hyperparameters) identified by the grid search\n",
    "model = grid_search.best_estimator_\n",
    "\n",
    "cmd.from_estimator(model, x_test, y_test,cmap='Blues',colorbar=False)\n",
    "\n",
    "\n",
    "##---------------------Different measurements---------------------------\n",
    "print(f'Accuracy: {accuracy_score(y_test,model.predict(x_test))}')\n",
    "print(f'Precision: {precision_score(y_test,model.predict(x_test),average=None)}')\n",
    "print(f'Recall: {recall_score(y_test,model.predict(x_test),average=None)}')"
   ]
  },
  {
   "cell_type": "markdown",
   "id": "9b20678a",
   "metadata": {},
   "source": [
    "### 25 Label Encoding & SVM"
   ]
  },
  {
   "cell_type": "code",
   "execution_count": 60,
   "id": "bf9509e4",
   "metadata": {},
   "outputs": [
    {
     "name": "stdout",
     "output_type": "stream",
     "text": [
      "{'C': 0.1}\n",
      "Accuracy: 0.551948051948052\n",
      "Precision: [0.51948052 0.         0.45959596 0.64015152]\n",
      "Recall: [0.57971014 0.         0.46192893 0.65250965]\n"
     ]
    },
    {
     "name": "stderr",
     "output_type": "stream",
     "text": [
      "/Users/svabbi16/opt/anaconda3/lib/python3.9/site-packages/sklearn/metrics/_classification.py:1318: UndefinedMetricWarning: Precision is ill-defined and being set to 0.0 in labels with no predicted samples. Use `zero_division` parameter to control this behavior.\n",
      "  _warn_prf(average, modifier, msg_start, len(result))\n"
     ]
    },
    {
     "data": {
      "image/png": "[encoded data removed]",
      "text/plain": [
       "<Figure size 432x288 with 1 Axes>"
      ]
     },
     "metadata": {
      "needs_background": "light"
     },
     "output_type": "display_data"
    }
   ],
   "source": [
    "#(5)SVM\n",
    "## Note: It will costs a long time.\n",
    "params = {\n",
    "    'C': [0.1, 1, 10],\n",
    "}\n",
    "\n",
    "\n",
    "model= SVC(kernel=\"linear\")\n",
    "\n",
    "# Initialize a GridSearchCV object to perform hyperparameter tuning\n",
    "# - 'estimator': The machine learning model (in this case, 'model') to be tuned.\n",
    "# - 'param_grid': A dictionary specifying the hyperparameter grid to search.\n",
    "# - 'cv': The number of cross-validation folds (here, 5-fold cross-validation is used).\n",
    "# - 'scoring': The evaluation metric used to compare different hyperparameter settings\n",
    "# --('accuracy','precision','recall, etc. see https://scikit-learn.org/stable/modules/model_evaluation.html#scoring-parameter).\n",
    "grid_search = GridSearchCV(estimator=model, param_grid=params, cv=5, scoring='accuracy')\n",
    "\n",
    "# Fit the GridSearchCV object to the training data to perform hyperparameter tuning\n",
    "grid_search.fit(x_train, y_train)\n",
    "\n",
    "# Retrieve the best hyperparameters identified by the grid search\n",
    "best_params = grid_search.best_params_\n",
    "print(best_params)\n",
    "# Retrieve the best cross-validated accuracy score achieved with the best hyperparameters\n",
    "best_score = grid_search.best_score_\n",
    "\n",
    "# Set 'model' to be the best estimator (model with the best hyperparameters) identified by the grid search\n",
    "model = grid_search.best_estimator_\n",
    "\n",
    "cmd.from_estimator(model, x_test, y_test,cmap='Blues',colorbar=False)\n",
    "\n",
    "\n",
    "##---------------------Different measurements---------------------------\n",
    "print(f'Accuracy: {accuracy_score(y_test,model.predict(x_test))}')\n",
    "print(f'Precision: {precision_score(y_test,model.predict(x_test),average=None)}')\n",
    "print(f'Recall: {recall_score(y_test,model.predict(x_test),average=None)}')"
   ]
  }
 ],
 "metadata": {
  "kernelspec": {
   "display_name": "Python 3 (ipykernel)",
   "language": "python",
   "name": "python3"
  },
  "language_info": {
   "codemirror_mode": {
    "name": "ipython",
    "version": 3
   },
   "file_extension": ".py",
   "mimetype": "text/x-python",
   "name": "python",
   "nbconvert_exporter": "python",
   "pygments_lexer": "ipython3",
   "version": "3.9.12"
  }
 },
 "nbformat": 4,
 "nbformat_minor": 5
}
